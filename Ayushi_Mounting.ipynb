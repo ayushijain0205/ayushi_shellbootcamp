{
 "cells": [
  {
   "cell_type": "code",
   "execution_count": 0,
   "metadata": {
    "application/vnd.databricks.v1+cell": {
     "cellMetadata": {
      "byteLimit": 2048000,
      "rowLimit": 10000
     },
     "inputWidgets": {},
     "nuid": "47b1df97-477f-451b-835e-26ef18cf8901",
     "showTitle": false,
     "title": ""
    }
   },
   "outputs": [],
   "source": [
    "strSource=\"wasbs://parent@storage5octayushi.blob.core.windows.net/\"\n",
    "strMountPoint=\"/mnt/mp5\"\n",
    "strKey=\"fs.azure.account.key.storage5octayushi.blob.core.windows.net\"\n",
    "strValue=\"lxkU7gWD9V1EdPGrKB/B4CMQsMKBWdMpBkW45Q6ZuHe2vB2ZaLmBEz1e2iCLq/D0ZJZXJgytIOeS+AStrfP8cg==\"\n",
    "\n",
    "result=dbutils.fs.mount(\n",
    "    source=strSource,\n",
    "    mount_point=strMountPoint,\n",
    "    extra_configs={strKey:strValue}\n",
    ")"
   ]
  },
  {
   "cell_type": "code",
   "execution_count": 0,
   "metadata": {
    "application/vnd.databricks.v1+cell": {
     "cellMetadata": {
      "byteLimit": 2048000,
      "rowLimit": 10000
     },
     "collapsed": true,
     "inputWidgets": {},
     "nuid": "1ca00374-fe5d-405e-82cc-627db5b2a616",
     "showTitle": false,
     "title": ""
    }
   },
   "outputs": [
    {
     "output_type": "display_data",
     "data": {
      "text/html": [
       "<style scoped>\n",
       "  .table-result-container {\n",
       "    max-height: 300px;\n",
       "    overflow: auto;\n",
       "  }\n",
       "  table, th, td {\n",
       "    border: 1px solid black;\n",
       "    border-collapse: collapse;\n",
       "  }\n",
       "  th, td {\n",
       "    padding: 5px;\n",
       "  }\n",
       "  th {\n",
       "    text-align: left;\n",
       "  }\n",
       "</style><div class='table-result-container'><table class='table-result'><thead style='background-color: white'><tr><th>path</th><th>name</th><th>size</th><th>modificationTime</th></tr></thead><tbody><tr><td>dbfs:/Volume/</td><td>Volume/</td><td>0</td><td>0</td></tr><tr><td>dbfs:/Volumes/</td><td>Volumes/</td><td>0</td><td>0</td></tr><tr><td>dbfs:/databricks-datasets/</td><td>databricks-datasets/</td><td>0</td><td>0</td></tr><tr><td>dbfs:/databricks-results/</td><td>databricks-results/</td><td>0</td><td>0</td></tr><tr><td>dbfs:/mnt/</td><td>mnt/</td><td>0</td><td>1696493409000</td></tr><tr><td>dbfs:/volume/</td><td>volume/</td><td>0</td><td>0</td></tr><tr><td>dbfs:/volumes/</td><td>volumes/</td><td>0</td><td>0</td></tr></tbody></table></div>"
      ]
     },
     "metadata": {
      "application/vnd.databricks.v1+output": {
       "addedWidgets": {},
       "aggData": [],
       "aggError": "",
       "aggOverflow": false,
       "aggSchema": [],
       "aggSeriesLimitReached": false,
       "aggType": "",
       "arguments": {},
       "columnCustomDisplayInfos": {},
       "data": [
        [
         "dbfs:/Volume/",
         "Volume/",
         0,
         0
        ],
        [
         "dbfs:/Volumes/",
         "Volumes/",
         0,
         0
        ],
        [
         "dbfs:/databricks-datasets/",
         "databricks-datasets/",
         0,
         0
        ],
        [
         "dbfs:/databricks-results/",
         "databricks-results/",
         0,
         0
        ],
        [
         "dbfs:/mnt/",
         "mnt/",
         0,
         1696493409000
        ],
        [
         "dbfs:/volume/",
         "volume/",
         0,
         0
        ],
        [
         "dbfs:/volumes/",
         "volumes/",
         0,
         0
        ]
       ],
       "datasetInfos": [],
       "dbfsResultPath": null,
       "isJsonSchema": true,
       "metadata": {
        "isDbfsCommandResult": false
       },
       "overflow": false,
       "plotOptions": {
        "customPlotOptions": {},
        "displayType": "table",
        "pivotAggregation": null,
        "pivotColumns": null,
        "xColumns": null,
        "yColumns": null
       },
       "removedWidgets": [],
       "schema": [
        {
         "metadata": "{}",
         "name": "path",
         "type": "\"string\""
        },
        {
         "metadata": "{}",
         "name": "name",
         "type": "\"string\""
        },
        {
         "metadata": "{}",
         "name": "size",
         "type": "\"long\""
        },
        {
         "metadata": "{}",
         "name": "modificationTime",
         "type": "\"long\""
        }
       ],
       "type": "table"
      }
     },
     "output_type": "display_data"
    }
   ],
   "source": [
    "%fs ls"
   ]
  },
  {
   "cell_type": "code",
   "execution_count": 0,
   "metadata": {
    "application/vnd.databricks.v1+cell": {
     "cellMetadata": {
      "byteLimit": 2048000,
      "rowLimit": 10000
     },
     "collapsed": true,
     "inputWidgets": {},
     "nuid": "6a12a1f2-2e72-4628-b71e-ecc082c5d06f",
     "showTitle": false,
     "title": ""
    }
   },
   "outputs": [
    {
     "output_type": "display_data",
     "data": {
      "text/html": [
       "<style scoped>\n",
       "  .table-result-container {\n",
       "    max-height: 300px;\n",
       "    overflow: auto;\n",
       "  }\n",
       "  table, th, td {\n",
       "    border: 1px solid black;\n",
       "    border-collapse: collapse;\n",
       "  }\n",
       "  th, td {\n",
       "    padding: 5px;\n",
       "  }\n",
       "  th {\n",
       "    text-align: left;\n",
       "  }\n",
       "</style><div class='table-result-container'><table class='table-result'><thead style='background-color: white'><tr><th>path</th><th>name</th><th>size</th><th>modificationTime</th></tr></thead><tbody><tr><td>dbfs:/mnt/mp/</td><td>mp/</td><td>0</td><td>0</td></tr><tr><td>dbfs:/mnt/mp2/</td><td>mp2/</td><td>0</td><td>0</td></tr><tr><td>dbfs:/mnt/mp3/</td><td>mp3/</td><td>0</td><td>0</td></tr><tr><td>dbfs:/mnt/mp4/</td><td>mp4/</td><td>0</td><td>0</td></tr><tr><td>dbfs:/mnt/mp5/</td><td>mp5/</td><td>0</td><td>0</td></tr></tbody></table></div>"
      ]
     },
     "metadata": {
      "application/vnd.databricks.v1+output": {
       "addedWidgets": {},
       "aggData": [],
       "aggError": "",
       "aggOverflow": false,
       "aggSchema": [],
       "aggSeriesLimitReached": false,
       "aggType": "",
       "arguments": {},
       "columnCustomDisplayInfos": {},
       "data": [
        [
         "dbfs:/mnt/mp/",
         "mp/",
         0,
         0
        ],
        [
         "dbfs:/mnt/mp2/",
         "mp2/",
         0,
         0
        ],
        [
         "dbfs:/mnt/mp3/",
         "mp3/",
         0,
         0
        ],
        [
         "dbfs:/mnt/mp4/",
         "mp4/",
         0,
         0
        ],
        [
         "dbfs:/mnt/mp5/",
         "mp5/",
         0,
         0
        ]
       ],
       "datasetInfos": [],
       "dbfsResultPath": null,
       "isJsonSchema": true,
       "metadata": {
        "isDbfsCommandResult": false
       },
       "overflow": false,
       "plotOptions": {
        "customPlotOptions": {},
        "displayType": "table",
        "pivotAggregation": null,
        "pivotColumns": null,
        "xColumns": null,
        "yColumns": null
       },
       "removedWidgets": [],
       "schema": [
        {
         "metadata": "{}",
         "name": "path",
         "type": "\"string\""
        },
        {
         "metadata": "{}",
         "name": "name",
         "type": "\"string\""
        },
        {
         "metadata": "{}",
         "name": "size",
         "type": "\"long\""
        },
        {
         "metadata": "{}",
         "name": "modificationTime",
         "type": "\"long\""
        }
       ],
       "type": "table"
      }
     },
     "output_type": "display_data"
    }
   ],
   "source": [
    "%fs ls dbfs:/mnt/"
   ]
  },
  {
   "cell_type": "code",
   "execution_count": 0,
   "metadata": {
    "application/vnd.databricks.v1+cell": {
     "cellMetadata": {
      "byteLimit": 2048000,
      "rowLimit": 10000
     },
     "collapsed": true,
     "inputWidgets": {},
     "nuid": "19b78b30-4421-4c3b-b7cf-e747058482b0",
     "showTitle": false,
     "title": ""
    }
   },
   "outputs": [
    {
     "output_type": "display_data",
     "data": {
      "text/html": [
       "<style scoped>\n",
       "  .table-result-container {\n",
       "    max-height: 300px;\n",
       "    overflow: auto;\n",
       "  }\n",
       "  table, th, td {\n",
       "    border: 1px solid black;\n",
       "    border-collapse: collapse;\n",
       "  }\n",
       "  th, td {\n",
       "    padding: 5px;\n",
       "  }\n",
       "  th {\n",
       "    text-align: left;\n",
       "  }\n",
       "</style><div class='table-result-container'><table class='table-result'><thead style='background-color: white'><tr><th>path</th><th>name</th><th>size</th><th>modificationTime</th></tr></thead><tbody><tr><td>dbfs:/mnt/mp5/RAW/Features data set.csv</td><td>Features data set.csv</td><td>600478</td><td>1696478860000</td></tr><tr><td>dbfs:/mnt/mp5/RAW/sales data-set.csv</td><td>sales data-set.csv</td><td>13264115</td><td>1696478858000</td></tr><tr><td>dbfs:/mnt/mp5/RAW/stores data-set.csv</td><td>stores data-set.csv</td><td>577</td><td>1696478853000</td></tr></tbody></table></div>"
      ]
     },
     "metadata": {
      "application/vnd.databricks.v1+output": {
       "addedWidgets": {},
       "aggData": [],
       "aggError": "",
       "aggOverflow": false,
       "aggSchema": [],
       "aggSeriesLimitReached": false,
       "aggType": "",
       "arguments": {},
       "columnCustomDisplayInfos": {},
       "data": [
        [
         "dbfs:/mnt/mp5/RAW/Features data set.csv",
         "Features data set.csv",
         600478,
         1696478860000
        ],
        [
         "dbfs:/mnt/mp5/RAW/sales data-set.csv",
         "sales data-set.csv",
         13264115,
         1696478858000
        ],
        [
         "dbfs:/mnt/mp5/RAW/stores data-set.csv",
         "stores data-set.csv",
         577,
         1696478853000
        ]
       ],
       "datasetInfos": [],
       "dbfsResultPath": null,
       "isJsonSchema": true,
       "metadata": {
        "isDbfsCommandResult": false
       },
       "overflow": false,
       "plotOptions": {
        "customPlotOptions": {},
        "displayType": "table",
        "pivotAggregation": null,
        "pivotColumns": null,
        "xColumns": null,
        "yColumns": null
       },
       "removedWidgets": [],
       "schema": [
        {
         "metadata": "{}",
         "name": "path",
         "type": "\"string\""
        },
        {
         "metadata": "{}",
         "name": "name",
         "type": "\"string\""
        },
        {
         "metadata": "{}",
         "name": "size",
         "type": "\"long\""
        },
        {
         "metadata": "{}",
         "name": "modificationTime",
         "type": "\"long\""
        }
       ],
       "type": "table"
      }
     },
     "output_type": "display_data"
    }
   ],
   "source": [
    "%fs ls /mnt/mp5/RAW/"
   ]
  },
  {
   "cell_type": "code",
   "execution_count": 0,
   "metadata": {
    "application/vnd.databricks.v1+cell": {
     "cellMetadata": {
      "byteLimit": 2048000,
      "rowLimit": 10000
     },
     "collapsed": true,
     "inputWidgets": {},
     "nuid": "15ea3eb9-1c42-4082-97c3-60680431b78f",
     "showTitle": false,
     "title": ""
    }
   },
   "outputs": [],
   "source": [
    "df1=spark.read.csv(\"dbfs:/mnt/mp5/RAW/stores data-set.csv\",header=True,inferSchema=True)\n",
    "df2=spark.read.csv(\"dbfs:/mnt/mp5/RAW/sales data-set.csv\",header=True,inferSchema=True)\n",
    "df3=spark.read.csv(\"dbfs:/mnt/mp5/RAW/Features data set.csv\",header=True,inferSchema=True)"
   ]
  },
  {
   "cell_type": "code",
   "execution_count": 0,
   "metadata": {
    "application/vnd.databricks.v1+cell": {
     "cellMetadata": {
      "byteLimit": 2048000,
      "rowLimit": 10000
     },
     "collapsed": true,
     "inputWidgets": {},
     "nuid": "bca78a95-0fb6-4fd6-9199-7a75eac7260c",
     "showTitle": false,
     "title": ""
    }
   },
   "outputs": [
    {
     "output_type": "stream",
     "name": "stdout",
     "output_type": "stream",
     "text": [
      "+-----+----+------+\n|Store|Type|  Size|\n+-----+----+------+\n|    1|   A|151315|\n|    2|   A|202307|\n|    3|   B| 37392|\n|    4|   A|205863|\n|    5|   B| 34875|\n|    6|   A|202505|\n|    7|   B| 70713|\n|    8|   A|155078|\n|    9|   B|125833|\n|   10|   B|126512|\n|   11|   A|207499|\n|   12|   B|112238|\n|   13|   A|219622|\n|   14|   A|200898|\n|   15|   B|123737|\n|   16|   B| 57197|\n|   17|   B| 93188|\n|   18|   B|120653|\n|   19|   A|203819|\n|   20|   A|203742|\n+-----+----+------+\nonly showing top 20 rows\n\n"
     ]
    }
   ],
   "source": [
    "df1.show()"
   ]
  },
  {
   "cell_type": "code",
   "execution_count": 0,
   "metadata": {
    "application/vnd.databricks.v1+cell": {
     "cellMetadata": {
      "byteLimit": 2048000,
      "rowLimit": 10000
     },
     "collapsed": true,
     "inputWidgets": {},
     "nuid": "1820238b-9c8b-40a3-9ce5-1b45fd92f067",
     "showTitle": false,
     "title": ""
    }
   },
   "outputs": [
    {
     "output_type": "stream",
     "name": "stdout",
     "output_type": "stream",
     "text": [
      "+-----+----+----------+------------+---------+\n|Store|Dept|      Date|Weekly_Sales|IsHoliday|\n+-----+----+----------+------------+---------+\n|    1|   1|2010-02-05|     24924.5|    false|\n|    1|   1|2010-02-12|    46039.49|     true|\n|    1|   1|2010-02-19|    41595.55|    false|\n|    1|   1|2010-02-26|    19403.54|    false|\n|    1|   1|2010-03-05|     21827.9|    false|\n|    1|   1|2010-03-12|    21043.39|    false|\n|    1|   1|2010-03-19|    22136.64|    false|\n|    1|   1|2010-03-26|    26229.21|    false|\n|    1|   1|2010-04-02|    57258.43|    false|\n|    1|   1|2010-04-09|    42960.91|    false|\n|    1|   1|2010-04-16|    17596.96|    false|\n|    1|   1|2010-04-23|    16145.35|    false|\n|    1|   1|2010-04-30|    16555.11|    false|\n|    1|   1|2010-05-07|    17413.94|    false|\n|    1|   1|2010-05-14|    18926.74|    false|\n|    1|   1|2010-05-21|    14773.04|    false|\n|    1|   1|2010-05-28|    15580.43|    false|\n|    1|   1|2010-06-04|    17558.09|    false|\n|    1|   1|2010-06-11|    16637.62|    false|\n|    1|   1|2010-06-18|    16216.27|    false|\n+-----+----+----------+------------+---------+\nonly showing top 20 rows\n\n"
     ]
    }
   ],
   "source": [
    "df2.show()"
   ]
  },
  {
   "cell_type": "code",
   "execution_count": 0,
   "metadata": {
    "application/vnd.databricks.v1+cell": {
     "cellMetadata": {
      "byteLimit": 2048000,
      "rowLimit": 10000
     },
     "collapsed": true,
     "inputWidgets": {},
     "nuid": "dfbfc797-4f38-4bd8-9682-ea040d595032",
     "showTitle": false,
     "title": ""
    }
   },
   "outputs": [
    {
     "output_type": "stream",
     "name": "stdout",
     "output_type": "stream",
     "text": [
      "+-----+----------+-----------+----------+---------+---------+---------+---------+---------+-----------+------------+---------+\n|Store|      Date|Temperature|Fuel_Price|MarkDown1|MarkDown2|MarkDown3|MarkDown4|MarkDown5|        CPI|Unemployment|IsHoliday|\n+-----+----------+-----------+----------+---------+---------+---------+---------+---------+-----------+------------+---------+\n|    1|2010-02-05|      42.31|     2.572|       NA|       NA|       NA|       NA|       NA|211.0963582|       8.106|    false|\n|    1|2010-02-12|      38.51|     2.548|       NA|       NA|       NA|       NA|       NA|211.2421698|       8.106|     true|\n|    1|2010-02-19|      39.93|     2.514|       NA|       NA|       NA|       NA|       NA|211.2891429|       8.106|    false|\n|    1|2010-02-26|      46.63|     2.561|       NA|       NA|       NA|       NA|       NA|211.3196429|       8.106|    false|\n|    1|2010-03-05|       46.5|     2.625|       NA|       NA|       NA|       NA|       NA|211.3501429|       8.106|    false|\n|    1|2010-03-12|      57.79|     2.667|       NA|       NA|       NA|       NA|       NA|211.3806429|       8.106|    false|\n|    1|2010-03-19|      54.58|      2.72|       NA|       NA|       NA|       NA|       NA| 211.215635|       8.106|    false|\n|    1|2010-03-26|      51.45|     2.732|       NA|       NA|       NA|       NA|       NA|211.0180424|       8.106|    false|\n|    1|2010-04-02|      62.27|     2.719|       NA|       NA|       NA|       NA|       NA|210.8204499|       7.808|    false|\n|    1|2010-04-09|      65.86|      2.77|       NA|       NA|       NA|       NA|       NA|210.6228574|       7.808|    false|\n|    1|2010-04-16|      66.32|     2.808|       NA|       NA|       NA|       NA|       NA|   210.4887|       7.808|    false|\n|    1|2010-04-23|      64.84|     2.795|       NA|       NA|       NA|       NA|       NA|210.4391228|       7.808|    false|\n|    1|2010-04-30|      67.41|      2.78|       NA|       NA|       NA|       NA|       NA|210.3895456|       7.808|    false|\n|    1|2010-05-07|      72.55|     2.835|       NA|       NA|       NA|       NA|       NA|210.3399684|       7.808|    false|\n|    1|2010-05-14|      74.78|     2.854|       NA|       NA|       NA|       NA|       NA|210.3374261|       7.808|    false|\n|    1|2010-05-21|      76.44|     2.826|       NA|       NA|       NA|       NA|       NA|210.6170934|       7.808|    false|\n|    1|2010-05-28|      80.44|     2.759|       NA|       NA|       NA|       NA|       NA|210.8967606|       7.808|    false|\n|    1|2010-06-04|      80.69|     2.705|       NA|       NA|       NA|       NA|       NA|211.1764278|       7.808|    false|\n|    1|2010-06-11|      80.43|     2.668|       NA|       NA|       NA|       NA|       NA|211.4560951|       7.808|    false|\n|    1|2010-06-18|      84.11|     2.637|       NA|       NA|       NA|       NA|       NA|211.4537719|       7.808|    false|\n+-----+----------+-----------+----------+---------+---------+---------+---------+---------+-----------+------------+---------+\nonly showing top 20 rows\n\n"
     ]
    }
   ],
   "source": [
    "df3.show()"
   ]
  },
  {
   "cell_type": "code",
   "execution_count": 0,
   "metadata": {
    "application/vnd.databricks.v1+cell": {
     "cellMetadata": {
      "byteLimit": 2048000,
      "rowLimit": 10000
     },
     "collapsed": true,
     "inputWidgets": {},
     "nuid": "6bcb6cb5-8fea-4a77-86f8-9727feded1ca",
     "showTitle": false,
     "title": ""
    }
   },
   "outputs": [],
   "source": [
    "df_features_sales = df3.join(df2, on=['Store','Date','IsHoliday'], how='inner')"
   ]
  },
  {
   "cell_type": "code",
   "execution_count": 0,
   "metadata": {
    "application/vnd.databricks.v1+cell": {
     "cellMetadata": {
      "byteLimit": 2048000,
      "rowLimit": 10000
     },
     "collapsed": true,
     "inputWidgets": {},
     "nuid": "a734a587-f7f2-4dd6-8d11-92e608925616",
     "showTitle": false,
     "title": ""
    }
   },
   "outputs": [
    {
     "output_type": "stream",
     "name": "stdout",
     "output_type": "stream",
     "text": [
      "+-----+----------+---------+-----------+----------+---------+---------+---------+---------+---------+-----------+------------+----+------------+\n|Store|      Date|IsHoliday|Temperature|Fuel_Price|MarkDown1|MarkDown2|MarkDown3|MarkDown4|MarkDown5|        CPI|Unemployment|Dept|Weekly_Sales|\n+-----+----------+---------+-----------+----------+---------+---------+---------+---------+---------+-----------+------------+----+------------+\n|    1|2010-02-05|    false|      42.31|     2.572|       NA|       NA|       NA|       NA|       NA|211.0963582|       8.106|   1|     24924.5|\n|    1|2010-02-12|     true|      38.51|     2.548|       NA|       NA|       NA|       NA|       NA|211.2421698|       8.106|   1|    46039.49|\n|    1|2010-02-19|    false|      39.93|     2.514|       NA|       NA|       NA|       NA|       NA|211.2891429|       8.106|   1|    41595.55|\n|    1|2010-02-26|    false|      46.63|     2.561|       NA|       NA|       NA|       NA|       NA|211.3196429|       8.106|   1|    19403.54|\n|    1|2010-03-05|    false|       46.5|     2.625|       NA|       NA|       NA|       NA|       NA|211.3501429|       8.106|   1|     21827.9|\n|    1|2010-03-12|    false|      57.79|     2.667|       NA|       NA|       NA|       NA|       NA|211.3806429|       8.106|   1|    21043.39|\n|    1|2010-03-19|    false|      54.58|      2.72|       NA|       NA|       NA|       NA|       NA| 211.215635|       8.106|   1|    22136.64|\n|    1|2010-03-26|    false|      51.45|     2.732|       NA|       NA|       NA|       NA|       NA|211.0180424|       8.106|   1|    26229.21|\n|    1|2010-04-02|    false|      62.27|     2.719|       NA|       NA|       NA|       NA|       NA|210.8204499|       7.808|   1|    57258.43|\n|    1|2010-04-09|    false|      65.86|      2.77|       NA|       NA|       NA|       NA|       NA|210.6228574|       7.808|   1|    42960.91|\n|    1|2010-04-16|    false|      66.32|     2.808|       NA|       NA|       NA|       NA|       NA|   210.4887|       7.808|   1|    17596.96|\n|    1|2010-04-23|    false|      64.84|     2.795|       NA|       NA|       NA|       NA|       NA|210.4391228|       7.808|   1|    16145.35|\n|    1|2010-04-30|    false|      67.41|      2.78|       NA|       NA|       NA|       NA|       NA|210.3895456|       7.808|   1|    16555.11|\n|    1|2010-05-07|    false|      72.55|     2.835|       NA|       NA|       NA|       NA|       NA|210.3399684|       7.808|   1|    17413.94|\n|    1|2010-05-14|    false|      74.78|     2.854|       NA|       NA|       NA|       NA|       NA|210.3374261|       7.808|   1|    18926.74|\n|    1|2010-05-21|    false|      76.44|     2.826|       NA|       NA|       NA|       NA|       NA|210.6170934|       7.808|   1|    14773.04|\n|    1|2010-05-28|    false|      80.44|     2.759|       NA|       NA|       NA|       NA|       NA|210.8967606|       7.808|   1|    15580.43|\n|    1|2010-06-04|    false|      80.69|     2.705|       NA|       NA|       NA|       NA|       NA|211.1764278|       7.808|   1|    17558.09|\n|    1|2010-06-11|    false|      80.43|     2.668|       NA|       NA|       NA|       NA|       NA|211.4560951|       7.808|   1|    16637.62|\n|    1|2010-06-18|    false|      84.11|     2.637|       NA|       NA|       NA|       NA|       NA|211.4537719|       7.808|   1|    16216.27|\n+-----+----------+---------+-----------+----------+---------+---------+---------+---------+---------+-----------+------------+----+------------+\nonly showing top 20 rows\n\n"
     ]
    }
   ],
   "source": [
    "df_features_sales.show()"
   ]
  },
  {
   "cell_type": "code",
   "execution_count": 0,
   "metadata": {
    "application/vnd.databricks.v1+cell": {
     "cellMetadata": {
      "byteLimit": 2048000,
      "rowLimit": 10000
     },
     "collapsed": true,
     "inputWidgets": {},
     "nuid": "f9d963d5-2aed-4028-beb1-36594458a4d5",
     "showTitle": false,
     "title": ""
    }
   },
   "outputs": [],
   "source": [
    "df_all=df_features_sales.join(df1, on='Store', how='inner')"
   ]
  },
  {
   "cell_type": "code",
   "execution_count": 0,
   "metadata": {
    "application/vnd.databricks.v1+cell": {
     "cellMetadata": {
      "byteLimit": 2048000,
      "rowLimit": 10000
     },
     "collapsed": true,
     "inputWidgets": {},
     "nuid": "f3df33a3-4676-4286-b2ce-1e056edf0636",
     "showTitle": false,
     "title": ""
    }
   },
   "outputs": [
    {
     "output_type": "stream",
     "name": "stdout",
     "output_type": "stream",
     "text": [
      "+-----+----------+---------+-----------+----------+---------+---------+---------+---------+---------+-----------+------------+----+------------+----+------+\n|Store|      Date|IsHoliday|Temperature|Fuel_Price|MarkDown1|MarkDown2|MarkDown3|MarkDown4|MarkDown5|        CPI|Unemployment|Dept|Weekly_Sales|Type|  Size|\n+-----+----------+---------+-----------+----------+---------+---------+---------+---------+---------+-----------+------------+----+------------+----+------+\n|    1|2010-02-05|    false|      42.31|     2.572|       NA|       NA|       NA|       NA|       NA|211.0963582|       8.106|   1|     24924.5|   A|151315|\n|    1|2010-02-12|     true|      38.51|     2.548|       NA|       NA|       NA|       NA|       NA|211.2421698|       8.106|   1|    46039.49|   A|151315|\n|    1|2010-02-19|    false|      39.93|     2.514|       NA|       NA|       NA|       NA|       NA|211.2891429|       8.106|   1|    41595.55|   A|151315|\n|    1|2010-02-26|    false|      46.63|     2.561|       NA|       NA|       NA|       NA|       NA|211.3196429|       8.106|   1|    19403.54|   A|151315|\n|    1|2010-03-05|    false|       46.5|     2.625|       NA|       NA|       NA|       NA|       NA|211.3501429|       8.106|   1|     21827.9|   A|151315|\n|    1|2010-03-12|    false|      57.79|     2.667|       NA|       NA|       NA|       NA|       NA|211.3806429|       8.106|   1|    21043.39|   A|151315|\n|    1|2010-03-19|    false|      54.58|      2.72|       NA|       NA|       NA|       NA|       NA| 211.215635|       8.106|   1|    22136.64|   A|151315|\n|    1|2010-03-26|    false|      51.45|     2.732|       NA|       NA|       NA|       NA|       NA|211.0180424|       8.106|   1|    26229.21|   A|151315|\n|    1|2010-04-02|    false|      62.27|     2.719|       NA|       NA|       NA|       NA|       NA|210.8204499|       7.808|   1|    57258.43|   A|151315|\n|    1|2010-04-09|    false|      65.86|      2.77|       NA|       NA|       NA|       NA|       NA|210.6228574|       7.808|   1|    42960.91|   A|151315|\n|    1|2010-04-16|    false|      66.32|     2.808|       NA|       NA|       NA|       NA|       NA|   210.4887|       7.808|   1|    17596.96|   A|151315|\n|    1|2010-04-23|    false|      64.84|     2.795|       NA|       NA|       NA|       NA|       NA|210.4391228|       7.808|   1|    16145.35|   A|151315|\n|    1|2010-04-30|    false|      67.41|      2.78|       NA|       NA|       NA|       NA|       NA|210.3895456|       7.808|   1|    16555.11|   A|151315|\n|    1|2010-05-07|    false|      72.55|     2.835|       NA|       NA|       NA|       NA|       NA|210.3399684|       7.808|   1|    17413.94|   A|151315|\n|    1|2010-05-14|    false|      74.78|     2.854|       NA|       NA|       NA|       NA|       NA|210.3374261|       7.808|   1|    18926.74|   A|151315|\n|    1|2010-05-21|    false|      76.44|     2.826|       NA|       NA|       NA|       NA|       NA|210.6170934|       7.808|   1|    14773.04|   A|151315|\n|    1|2010-05-28|    false|      80.44|     2.759|       NA|       NA|       NA|       NA|       NA|210.8967606|       7.808|   1|    15580.43|   A|151315|\n|    1|2010-06-04|    false|      80.69|     2.705|       NA|       NA|       NA|       NA|       NA|211.1764278|       7.808|   1|    17558.09|   A|151315|\n|    1|2010-06-11|    false|      80.43|     2.668|       NA|       NA|       NA|       NA|       NA|211.4560951|       7.808|   1|    16637.62|   A|151315|\n|    1|2010-06-18|    false|      84.11|     2.637|       NA|       NA|       NA|       NA|       NA|211.4537719|       7.808|   1|    16216.27|   A|151315|\n+-----+----------+---------+-----------+----------+---------+---------+---------+---------+---------+-----------+------------+----+------------+----+------+\nonly showing top 20 rows\n\n"
     ]
    }
   ],
   "source": [
    "df_all.show()"
   ]
  },
  {
   "cell_type": "code",
   "execution_count": 0,
   "metadata": {
    "application/vnd.databricks.v1+cell": {
     "cellMetadata": {
      "byteLimit": 2048000,
      "rowLimit": 10000
     },
     "collapsed": true,
     "inputWidgets": {},
     "nuid": "9f22e147-7038-423f-a2da-8f31a8c02f75",
     "showTitle": false,
     "title": ""
    }
   },
   "outputs": [],
   "source": [
    "from pyspark.sql.functions import col\n",
    "df_duplicates=df_all.groupBy(df_all.columns).count().filter(col(\"count\")>1)"
   ]
  },
  {
   "cell_type": "code",
   "execution_count": 0,
   "metadata": {
    "application/vnd.databricks.v1+cell": {
     "cellMetadata": {
      "byteLimit": 2048000,
      "rowLimit": 10000
     },
     "collapsed": true,
     "inputWidgets": {},
     "nuid": "12ef9bf7-b056-4408-9092-4ff70931fd91",
     "showTitle": false,
     "title": ""
    }
   },
   "outputs": [
    {
     "output_type": "stream",
     "name": "stdout",
     "output_type": "stream",
     "text": [
      "+-----+----+---------+-----------+----------+---------+---------+---------+---------+---------+---+------------+----+------------+----+----+-----+\n|Store|Date|IsHoliday|Temperature|Fuel_Price|MarkDown1|MarkDown2|MarkDown3|MarkDown4|MarkDown5|CPI|Unemployment|Dept|Weekly_Sales|Type|Size|count|\n+-----+----+---------+-----------+----------+---------+---------+---------+---------+---------+---+------------+----+------------+----+----+-----+\n+-----+----+---------+-----------+----------+---------+---------+---------+---------+---------+---+------------+----+------------+----+----+-----+\n\n"
     ]
    }
   ],
   "source": [
    "df_duplicates.show()"
   ]
  },
  {
   "cell_type": "code",
   "execution_count": 0,
   "metadata": {
    "application/vnd.databricks.v1+cell": {
     "cellMetadata": {
      "byteLimit": 2048000,
      "rowLimit": 10000
     },
     "collapsed": true,
     "inputWidgets": {},
     "nuid": "691286ab-39f8-4479-9bc8-fdbfb4320c3d",
     "showTitle": false,
     "title": ""
    }
   },
   "outputs": [
    {
     "output_type": "stream",
     "name": "stdout",
     "output_type": "stream",
     "text": [
      "+-----+----+---------+-----------+----------+---------+---------+---------+---------+---------+---+------------+----+------------+----+----+\n|Store|Date|IsHoliday|Temperature|Fuel_Price|MarkDown1|MarkDown2|MarkDown3|MarkDown4|MarkDown5|CPI|Unemployment|Dept|Weekly_Sales|Type|Size|\n+-----+----+---------+-----------+----------+---------+---------+---------+---------+---------+---+------------+----+------------+----+----+\n|    0|   0|        0|          0|         0|        0|        0|        0|        0|        0|  0|           0|   0|           0|   0|   0|\n+-----+----+---------+-----------+----------+---------+---------+---------+---------+---------+---+------------+----+------------+----+----+\n\n"
     ]
    }
   ],
   "source": [
    "from pyspark.sql.functions import col, sum\n",
    "null_counts = df_all.select([sum(col(column).isNull().cast('int')).alias(column) for column in df_all.columns])\n",
    "\n",
    "null_counts.show()"
   ]
  }
 ],
 "metadata": {
  "application/vnd.databricks.v1+notebook": {
   "dashboards": [],
   "language": "python",
   "notebookMetadata": {
    "mostRecentlyExecutedCommandWithImplicitDF": {
     "commandId": 3879032708874523,
     "dataframes": [
      "_sqldf"
     ]
    },
    "pythonIndentUnit": 4
   },
   "notebookName": "Ayushi_Mounting",
   "widgets": {}
  }
 },
 "nbformat": 4,
 "nbformat_minor": 0
}
